{
 "cells": [
  {
   "cell_type": "code",
   "execution_count": null,
   "id": "29171965",
   "metadata": {},
   "outputs": [],
   "source": [
    "def sum(a,b):\n",
    "c=a+b\n",
    "return c\n",
    "def mul(a,b)\n",
    "c=a*b\n",
    "return c\n"
   ]
  }
 ],
 "metadata": {
  "kernelspec": {
   "display_name": "Python 3 (ipykernel)",
   "language": "python",
   "name": "python3"
  },
  "language_info": {
   "codemirror_mode": {
    "name": "ipython",
    "version": 3
   },
   "file_extension": ".py",
   "mimetype": "text/x-python",
   "name": "python",
   "nbconvert_exporter": "python",
   "pygments_lexer": "ipython3",
   "version": "3.9.12"
  }
 },
 "nbformat": 4,
 "nbformat_minor": 5
}
