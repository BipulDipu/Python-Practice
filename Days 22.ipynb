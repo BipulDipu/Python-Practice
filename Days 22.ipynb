{
 "cells": [
  {
   "cell_type": "markdown",
   "id": "2de891b9",
   "metadata": {},
   "source": [
    "# ZIP in python"
   ]
  },
  {
   "cell_type": "code",
   "execution_count": 1,
   "id": "a041a8b9",
   "metadata": {},
   "outputs": [
    {
     "name": "stdout",
     "output_type": "stream",
     "text": [
      "[('Sakil', 'MBSTU'), ('Bipul', 'DU'), ('Nadim', 'KUET')]\n"
     ]
    }
   ],
   "source": [
    "name=['Sakil','Bipul','Nadim']\n",
    "versity=['MBSTU','DU','KUET']\n",
    "zipped=list(zip(name,versity))\n",
    "print(zipped)"
   ]
  },
  {
   "cell_type": "code",
   "execution_count": 3,
   "id": "efd43b5f",
   "metadata": {},
   "outputs": [
    {
     "name": "stdout",
     "output_type": "stream",
     "text": [
      "(('Sakil', 'MBSTU'), ('Bipul', 'DU'), ('Nadim', 'KUET'))\n"
     ]
    }
   ],
   "source": [
    "zipped=tuple(zip(name,versity))\n",
    "print(zipped)"
   ]
  },
  {
   "cell_type": "code",
   "execution_count": 4,
   "id": "84012dd5",
   "metadata": {},
   "outputs": [
    {
     "name": "stdout",
     "output_type": "stream",
     "text": [
      "{'Sakil': 'MBSTU', 'Bipul': 'DU', 'Nadim': 'KUET'}\n"
     ]
    }
   ],
   "source": [
    "zipped=dict(zip(name,versity))\n",
    "print(zipped)"
   ]
  },
  {
   "cell_type": "code",
   "execution_count": 5,
   "id": "4913727b",
   "metadata": {},
   "outputs": [
    {
     "name": "stdout",
     "output_type": "stream",
     "text": [
      "{('Sakil', 'MBSTU'), ('Bipul', 'DU'), ('Nadim', 'KUET')}\n"
     ]
    }
   ],
   "source": [
    "zipped=set(zip(name,versity))\n",
    "print(zipped)"
   ]
  },
  {
   "cell_type": "markdown",
   "id": "35278a03",
   "metadata": {},
   "source": [
    "# UNZIP"
   ]
  },
  {
   "cell_type": "code",
   "execution_count": 10,
   "id": "3398db49",
   "metadata": {},
   "outputs": [
    {
     "name": "stdout",
     "output_type": "stream",
     "text": [
      "[('Sakil', 'MBSTU'), ('Bipul', 'DU'), ('Nadim', 'KUET')]\n"
     ]
    }
   ],
   "source": [
    "zipped=list(zip(name,versity))\n",
    "print(zipped)\n",
    "name1,versity1=zip(*zipped)"
   ]
  },
  {
   "cell_type": "code",
   "execution_count": 11,
   "id": "2cdeffb8",
   "metadata": {},
   "outputs": [
    {
     "data": {
      "text/plain": [
       "('Sakil', 'Bipul', 'Nadim')"
      ]
     },
     "execution_count": 11,
     "metadata": {},
     "output_type": "execute_result"
    }
   ],
   "source": [
    "name1"
   ]
  },
  {
   "cell_type": "code",
   "execution_count": 12,
   "id": "1b4ed7fc",
   "metadata": {},
   "outputs": [
    {
     "data": {
      "text/plain": [
       "('MBSTU', 'DU', 'KUET')"
      ]
     },
     "execution_count": 12,
     "metadata": {},
     "output_type": "execute_result"
    }
   ],
   "source": [
    "versity1"
   ]
  },
  {
   "cell_type": "markdown",
   "id": "1b273a68",
   "metadata": {},
   "source": [
    "# How to search and replace"
   ]
  },
  {
   "cell_type": "code",
   "execution_count": 13,
   "id": "031d7516",
   "metadata": {},
   "outputs": [],
   "source": [
    "search_word='Bipul'\n",
    "replace_word='Anny'\n",
    "text='My name is Bipul Biswas (Dipu)'\n"
   ]
  },
  {
   "cell_type": "code",
   "execution_count": 18,
   "id": "85ac8f71",
   "metadata": {},
   "outputs": [],
   "source": [
    "import re"
   ]
  },
  {
   "cell_type": "code",
   "execution_count": 17,
   "id": "b6bc732e",
   "metadata": {},
   "outputs": [
    {
     "ename": "NameError",
     "evalue": "name 'search_word' is not defined",
     "output_type": "error",
     "traceback": [
      "\u001b[1;31m---------------------------------------------------------------------------\u001b[0m",
      "\u001b[1;31mNameError\u001b[0m                                 Traceback (most recent call last)",
      "Input \u001b[1;32mIn [17]\u001b[0m, in \u001b[0;36m<cell line: 1>\u001b[1;34m()\u001b[0m\n\u001b[1;32m----> 1\u001b[0m re\u001b[38;5;241m.\u001b[39msub(\u001b[43msearch_word\u001b[49m,replace_word,text)\n",
      "\u001b[1;31mNameError\u001b[0m: name 'search_word' is not defined"
     ]
    }
   ],
   "source": [
    "re.sub(search_word,replace_word,text)"
   ]
  },
  {
   "cell_type": "code",
   "execution_count": null,
   "id": "6c52ded7",
   "metadata": {},
   "outputs": [],
   "source": []
  }
 ],
 "metadata": {
  "kernelspec": {
   "display_name": "Python 3 (ipykernel)",
   "language": "python",
   "name": "python3"
  },
  "language_info": {
   "codemirror_mode": {
    "name": "ipython",
    "version": 3
   },
   "file_extension": ".py",
   "mimetype": "text/x-python",
   "name": "python",
   "nbconvert_exporter": "python",
   "pygments_lexer": "ipython3",
   "version": "3.9.12"
  }
 },
 "nbformat": 4,
 "nbformat_minor": 5
}
