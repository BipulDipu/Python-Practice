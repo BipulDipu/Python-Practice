{
 "cells": [
  {
   "cell_type": "markdown",
   "id": "5b6f3b59",
   "metadata": {},
   "source": [
    "# f-string\n"
   ]
  },
  {
   "cell_type": "code",
   "execution_count": 1,
   "id": "60b73c48",
   "metadata": {},
   "outputs": [
    {
     "name": "stdout",
     "output_type": "stream",
     "text": [
      "Hey my name is Bipul and I am from India\n"
     ]
    }
   ],
   "source": [
    "letter=\"Hey my name is {} and I am from {}\"\n",
    "country=\"India\"\n",
    "name=\"Bipul\"\n",
    "print(letter.format(name,country))\n"
   ]
  },
  {
   "cell_type": "code",
   "execution_count": 2,
   "id": "45dd9fdd",
   "metadata": {},
   "outputs": [
    {
     "name": "stdout",
     "output_type": "stream",
     "text": [
      "Hey my name is Bipul and I am from India\n"
     ]
    }
   ],
   "source": [
    "print(f\"Hey my name is {name} and I am from {country}\")"
   ]
  },
  {
   "cell_type": "code",
   "execution_count": null,
   "id": "ab8903d2",
   "metadata": {},
   "outputs": [],
   "source": []
  }
 ],
 "metadata": {
  "kernelspec": {
   "display_name": "Python 3 (ipykernel)",
   "language": "python",
   "name": "python3"
  },
  "language_info": {
   "codemirror_mode": {
    "name": "ipython",
    "version": 3
   },
   "file_extension": ".py",
   "mimetype": "text/x-python",
   "name": "python",
   "nbconvert_exporter": "python",
   "pygments_lexer": "ipython3",
   "version": "3.9.12"
  }
 },
 "nbformat": 4,
 "nbformat_minor": 5
}
