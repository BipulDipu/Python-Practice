{
 "cells": [
  {
   "cell_type": "code",
   "execution_count": 1,
   "id": "883fcd20",
   "metadata": {},
   "outputs": [],
   "source": [
    "# Basic notebook"
   ]
  },
  {
   "cell_type": "code",
   "execution_count": 2,
   "id": "bfc54826",
   "metadata": {},
   "outputs": [
    {
     "data": {
      "text/plain": [
       "'data science'"
      ]
     },
     "execution_count": 2,
     "metadata": {},
     "output_type": "execute_result"
    }
   ],
   "source": [
    "'data science'"
   ]
  },
  {
   "cell_type": "code",
   "execution_count": 3,
   "id": "e51445fe",
   "metadata": {},
   "outputs": [
    {
     "data": {
      "text/plain": [
       "'data science'"
      ]
     },
     "execution_count": 3,
     "metadata": {},
     "output_type": "execute_result"
    }
   ],
   "source": [
    "'data science'"
   ]
  },
  {
   "cell_type": "code",
   "execution_count": 4,
   "id": "d0b6a1b4",
   "metadata": {},
   "outputs": [
    {
     "data": {
      "text/plain": [
       "'data science'"
      ]
     },
     "execution_count": 4,
     "metadata": {},
     "output_type": "execute_result"
    }
   ],
   "source": [
    "'data science'"
   ]
  },
  {
   "cell_type": "code",
   "execution_count": 2,
   "id": "7aad41a0",
   "metadata": {},
   "outputs": [
    {
     "ename": "NameError",
     "evalue": "name 'printf' is not defined",
     "output_type": "error",
     "traceback": [
      "\u001b[1;31m---------------------------------------------------------------------------\u001b[0m",
      "\u001b[1;31mNameError\u001b[0m                                 Traceback (most recent call last)",
      "Input \u001b[1;32mIn [2]\u001b[0m, in \u001b[0;36m<cell line: 1>\u001b[1;34m()\u001b[0m\n\u001b[1;32m----> 1\u001b[0m \u001b[43mprintf\u001b[49m(\u001b[38;5;124m'\u001b[39m\u001b[38;5;124mHello world, >Welcome to 60 days of pythom\u001b[39m\u001b[38;5;124m'\u001b[39m)\n",
      "\u001b[1;31mNameError\u001b[0m: name 'printf' is not defined"
     ]
    }
   ],
   "source": [
    "printf('Hello world, >Welcome to 60 days of pythom')"
   ]
  },
  {
   "cell_type": "code",
   "execution_count": 5,
   "id": "735b6595",
   "metadata": {},
   "outputs": [
    {
     "ename": "SyntaxError",
     "evalue": "invalid syntax (3019452921.py, line 1)",
     "output_type": "error",
     "traceback": [
      "\u001b[1;36m  Input \u001b[1;32mIn [5]\u001b[1;36m\u001b[0m\n\u001b[1;33m    print('Hello world, >Welcome to 60 days of pythom' sep='&')\u001b[0m\n\u001b[1;37m                                                       ^\u001b[0m\n\u001b[1;31mSyntaxError\u001b[0m\u001b[1;31m:\u001b[0m invalid syntax\n"
     ]
    }
   ],
   "source": [
    "print('Hello world, >Welcome to 60 days of pythom' sep='&')"
   ]
  },
  {
   "cell_type": "code",
   "execution_count": 6,
   "id": "1e12a6de",
   "metadata": {},
   "outputs": [
    {
     "name": "stdout",
     "output_type": "stream",
     "text": [
      "Hello world\n"
     ]
    }
   ],
   "source": [
    "var='Hello world'\n",
    "print(var)"
   ]
  },
  {
   "cell_type": "code",
   "execution_count": 7,
   "id": "d4af9bf9",
   "metadata": {},
   "outputs": [
    {
     "name": "stdout",
     "output_type": "stream",
     "text": [
      "var\n"
     ]
    }
   ],
   "source": [
    "var='Hello world'\n",
    "print('var')"
   ]
  },
  {
   "cell_type": "code",
   "execution_count": 9,
   "id": "8802d04b",
   "metadata": {},
   "outputs": [
    {
     "name": "stdout",
     "output_type": "stream",
     "text": [
      "Hello world\n",
      "My sentence is Hello world\n"
     ]
    }
   ],
   "source": [
    "var='Hello world'\n",
    "print(var)\n",
    "print('My sentence is '+var)"
   ]
  },
  {
   "cell_type": "code",
   "execution_count": 10,
   "id": "ed8ce666",
   "metadata": {},
   "outputs": [
    {
     "data": {
      "text/plain": [
       "2168742489776"
      ]
     },
     "execution_count": 10,
     "metadata": {},
     "output_type": "execute_result"
    }
   ],
   "source": [
    "id(var)"
   ]
  },
  {
   "cell_type": "code",
   "execution_count": 11,
   "id": "176f10cb",
   "metadata": {},
   "outputs": [
    {
     "data": {
      "text/plain": [
       "60"
      ]
     },
     "execution_count": 11,
     "metadata": {},
     "output_type": "execute_result"
    }
   ],
   "source": [
    "import sys\n",
    "sys.getsizeof(var)"
   ]
  },
  {
   "cell_type": "code",
   "execution_count": 12,
   "id": "73e7dc6d",
   "metadata": {},
   "outputs": [],
   "source": [
    "x=10"
   ]
  },
  {
   "cell_type": "code",
   "execution_count": 13,
   "id": "cbe86ee2",
   "metadata": {},
   "outputs": [
    {
     "data": {
      "text/plain": [
       "10"
      ]
     },
     "execution_count": 13,
     "metadata": {},
     "output_type": "execute_result"
    }
   ],
   "source": [
    "x"
   ]
  },
  {
   "cell_type": "code",
   "execution_count": 14,
   "id": "aeec8784",
   "metadata": {},
   "outputs": [],
   "source": [
    "y=100\n"
   ]
  },
  {
   "cell_type": "code",
   "execution_count": 15,
   "id": "8ecca168",
   "metadata": {},
   "outputs": [
    {
     "data": {
      "text/plain": [
       "100"
      ]
     },
     "execution_count": 15,
     "metadata": {},
     "output_type": "execute_result"
    }
   ],
   "source": [
    "y"
   ]
  },
  {
   "cell_type": "code",
   "execution_count": 16,
   "id": "360059aa",
   "metadata": {},
   "outputs": [
    {
     "data": {
      "text/plain": [
       "2168627423824"
      ]
     },
     "execution_count": 16,
     "metadata": {},
     "output_type": "execute_result"
    }
   ],
   "source": [
    "id(x)"
   ]
  },
  {
   "cell_type": "code",
   "execution_count": 17,
   "id": "3ab36f4b",
   "metadata": {},
   "outputs": [
    {
     "data": {
      "text/plain": [
       "2168627615184"
      ]
     },
     "execution_count": 17,
     "metadata": {},
     "output_type": "execute_result"
    }
   ],
   "source": [
    "id(y)"
   ]
  },
  {
   "cell_type": "code",
   "execution_count": 18,
   "id": "e17c6ae1",
   "metadata": {},
   "outputs": [
    {
     "data": {
      "text/plain": [
       "2168741382480"
      ]
     },
     "execution_count": 18,
     "metadata": {},
     "output_type": "execute_result"
    }
   ],
   "source": [
    "x=1000\n",
    "y=1000\n",
    "id(x)\n",
    "id(y)"
   ]
  },
  {
   "cell_type": "code",
   "execution_count": 19,
   "id": "70e2d86e",
   "metadata": {},
   "outputs": [
    {
     "data": {
      "text/plain": [
       "2168741382480"
      ]
     },
     "execution_count": 19,
     "metadata": {},
     "output_type": "execute_result"
    }
   ],
   "source": [
    "id(y)"
   ]
  },
  {
   "cell_type": "code",
   "execution_count": 21,
   "id": "c33b4f8a",
   "metadata": {},
   "outputs": [
    {
     "data": {
      "text/plain": [
       "2168742609168"
      ]
     },
     "execution_count": 21,
     "metadata": {},
     "output_type": "execute_result"
    }
   ],
   "source": [
    "x=10000\n",
    "y=10000\n",
    "id(x)\n"
   ]
  },
  {
   "cell_type": "code",
   "execution_count": 22,
   "id": "94a847f0",
   "metadata": {},
   "outputs": [
    {
     "data": {
      "text/plain": [
       "2168742609232"
      ]
     },
     "execution_count": 22,
     "metadata": {},
     "output_type": "execute_result"
    }
   ],
   "source": [
    "id(y)"
   ]
  },
  {
   "cell_type": "code",
   "execution_count": 23,
   "id": "db398817",
   "metadata": {},
   "outputs": [
    {
     "ename": "SyntaxError",
     "evalue": "invalid syntax (3805975072.py, line 1)",
     "output_type": "error",
     "traceback": [
      "\u001b[1;36m  Input \u001b[1;32mIn [23]\u001b[1;36m\u001b[0m\n\u001b[1;33m    9var=2\u001b[0m\n\u001b[1;37m     ^\u001b[0m\n\u001b[1;31mSyntaxError\u001b[0m\u001b[1;31m:\u001b[0m invalid syntax\n"
     ]
    }
   ],
   "source": [
    "9var=2"
   ]
  },
  {
   "cell_type": "code",
   "execution_count": 24,
   "id": "797dc9ea",
   "metadata": {},
   "outputs": [],
   "source": [
    "vat4=9"
   ]
  },
  {
   "cell_type": "code",
   "execution_count": 25,
   "id": "42282c7a",
   "metadata": {},
   "outputs": [
    {
     "data": {
      "text/plain": [
       "9"
      ]
     },
     "execution_count": 25,
     "metadata": {},
     "output_type": "execute_result"
    }
   ],
   "source": [
    "vat4"
   ]
  },
  {
   "cell_type": "code",
   "execution_count": 26,
   "id": "5d66b367",
   "metadata": {},
   "outputs": [],
   "source": [
    "x,y,z=10,100,1000\n"
   ]
  },
  {
   "cell_type": "code",
   "execution_count": 27,
   "id": "b5cf0e3b",
   "metadata": {},
   "outputs": [
    {
     "data": {
      "text/plain": [
       "1000"
      ]
     },
     "execution_count": 27,
     "metadata": {},
     "output_type": "execute_result"
    }
   ],
   "source": [
    "z"
   ]
  },
  {
   "cell_type": "code",
   "execution_count": 30,
   "id": "2603df50",
   "metadata": {},
   "outputs": [],
   "source": [
    "x,y,z=10,100,'Bipul'\n",
    "\n",
    "\n"
   ]
  },
  {
   "cell_type": "code",
   "execution_count": 29,
   "id": "23377b81",
   "metadata": {},
   "outputs": [
    {
     "data": {
      "text/plain": [
       "1000"
      ]
     },
     "execution_count": 29,
     "metadata": {},
     "output_type": "execute_result"
    }
   ],
   "source": [
    "z"
   ]
  },
  {
   "cell_type": "code",
   "execution_count": 31,
   "id": "3131f069",
   "metadata": {},
   "outputs": [
    {
     "data": {
      "text/plain": [
       "'Bipul'"
      ]
     },
     "execution_count": 31,
     "metadata": {},
     "output_type": "execute_result"
    }
   ],
   "source": [
    "z"
   ]
  },
  {
   "cell_type": "markdown",
   "id": "6c0ebc84",
   "metadata": {},
   "source": [
    "# local vs global"
   ]
  },
  {
   "cell_type": "code",
   "execution_count": 37,
   "id": "8ed38c75",
   "metadata": {},
   "outputs": [],
   "source": [
    "x=1000\n",
    "def func1():\n",
    "    x=500\n",
    "    print('my number is :',x)\n",
    "    func1()\n",
    "def func2():\n",
    "    print('my number is :',x)\n",
    "    func1()"
   ]
  },
  {
   "cell_type": "code",
   "execution_count": null,
   "id": "315bfb60",
   "metadata": {},
   "outputs": [],
   "source": []
  },
  {
   "cell_type": "code",
   "execution_count": null,
   "id": "4ef4bfd1",
   "metadata": {},
   "outputs": [],
   "source": []
  }
 ],
 "metadata": {
  "kernelspec": {
   "display_name": "Python 3 (ipykernel)",
   "language": "python",
   "name": "python3"
  },
  "language_info": {
   "codemirror_mode": {
    "name": "ipython",
    "version": 3
   },
   "file_extension": ".py",
   "mimetype": "text/x-python",
   "name": "python",
   "nbconvert_exporter": "python",
   "pygments_lexer": "ipython3",
   "version": "3.9.12"
  }
 },
 "nbformat": 4,
 "nbformat_minor": 5
}
