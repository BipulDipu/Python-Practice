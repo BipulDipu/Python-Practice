{
 "cells": [
  {
   "cell_type": "code",
   "execution_count": 1,
   "id": "6c6d1a8b",
   "metadata": {},
   "outputs": [
    {
     "name": "stdout",
     "output_type": "stream",
     "text": [
      "what is your nameBipul Biswas\n",
      "hello Bipul Biswas\n"
     ]
    }
   ],
   "source": [
    "name=input(\"what is your name\")\n",
    "print(\"hello \" + name)"
   ]
  },
  {
   "cell_type": "code",
   "execution_count": 4,
   "id": "a9c46bf0",
   "metadata": {},
   "outputs": [
    {
     "name": "stdout",
     "output_type": "stream",
     "text": [
      "What is your name?Bipul\n",
      "What is your favourite color?Blue\n",
      "Bipul likes Blue\n"
     ]
    }
   ],
   "source": [
    "name=input('What is your name?')\n",
    "Favo_colar=input('What is your favourite color?')\n",
    "print(name + ' likes ' + Favo_colar)\n"
   ]
  },
  {
   "cell_type": "code",
   "execution_count": 8,
   "id": "86f7408b",
   "metadata": {},
   "outputs": [
    {
     "name": "stdout",
     "output_type": "stream",
     "text": [
      "Down Payment: #100000.0\n"
     ]
    }
   ],
   "source": [
    "price=1000000\n",
    "has_good_credit=True\n",
    "if has_good_credit:\n",
    "    down_payment=0.1*price\n",
    "else:\n",
    "        down_payment=0.2*price\n",
    "print(f\"Down Payment: #{down_payment}\")\n",
    "    "
   ]
  },
  {
   "cell_type": "code",
   "execution_count": 14,
   "id": "28d6c7da",
   "metadata": {},
   "outputs": [
    {
     "name": "stdout",
     "output_type": "stream",
     "text": [
      "Eligable for loan\n"
     ]
    }
   ],
   "source": [
    "Has_good_income=True\n",
    "Has_good_credit=False\n",
    "if Has_good_income or Has_good_credit:\n",
    "    print(\"Eligable for loan\")"
   ]
  },
  {
   "cell_type": "code",
   "execution_count": 5,
   "id": "9aee030a",
   "metadata": {},
   "outputs": [
    {
     "name": "stdout",
     "output_type": "stream",
     "text": [
      "Enter your birth year1994\n",
      "29\n"
     ]
    }
   ],
   "source": [
    "birth_year=input(\"Enter your birth year\")\n",
    "age=2023-int(birth_year)\n",
    "print(age)"
   ]
  },
  {
   "cell_type": "code",
   "execution_count": 2,
   "id": "6be12b09",
   "metadata": {},
   "outputs": [
    {
     "name": "stdout",
     "output_type": "stream",
     "text": [
      "First number is30\n",
      "Second number is12\n",
      "42.0\n"
     ]
    }
   ],
   "source": [
    "first=input(\"First number is\")\n",
    "second=input(\"Second number is\")\n",
    "sum=float(first)+int(second)\n",
    "print(sum)"
   ]
  },
  {
   "cell_type": "code",
   "execution_count": 6,
   "id": "113e1622",
   "metadata": {},
   "outputs": [
    {
     "name": "stdout",
     "output_type": "stream",
     "text": [
      "First number is20\n",
      "Second number is11\n",
      "Sum: 31.0\n"
     ]
    }
   ],
   "source": [
    "first=input(\"First number is\")\n",
    "second=input(\"Second number is\")\n",
    "sum=float(first)+float(second)\n",
    "print(\"Sum: \" + str(sum))"
   ]
  },
  {
   "cell_type": "code",
   "execution_count": 10,
   "id": "491e9a66",
   "metadata": {},
   "outputs": [
    {
     "ename": "SyntaxError",
     "evalue": "unexpected EOF while parsing (1619613161.py, line 8)",
     "output_type": "error",
     "traceback": [
      "\u001b[1;36m  Input \u001b[1;32mIn [10]\u001b[1;36m\u001b[0m\n\u001b[1;33m    print(\"weight in Kgs:\" + str(converted)\u001b[0m\n\u001b[1;37m                                           ^\u001b[0m\n\u001b[1;31mSyntaxError\u001b[0m\u001b[1;31m:\u001b[0m unexpected EOF while parsing\n"
     ]
    }
   ],
   "source": [
    "weight=int(input(\"weight:\"))\n",
    "unit=input(\"(K)kg or (L)bs: \")\n",
    "if unit.upper==\"K\":\n",
    "    converted=weight/0.45\n",
    "    print(\"weight in LBS:\" + str(converted))\n",
    "else:\n",
    "    converted=weight*0.45\n",
    "    print(\"weight in Kgs:\" + str(converted)"
   ]
  },
  {
   "cell_type": "markdown",
   "id": "3b08950c",
   "metadata": {},
   "source": [
    "\n",
    "# while loop"
   ]
  },
  {
   "cell_type": "code",
   "execution_count": 15,
   "id": "26c94507",
   "metadata": {},
   "outputs": [
    {
     "name": "stdout",
     "output_type": "stream",
     "text": [
      "*\n",
      "**\n",
      "***\n",
      "****\n",
      "*****\n",
      "******\n",
      "*******\n",
      "********\n",
      "*********\n",
      "**********\n"
     ]
    }
   ],
   "source": [
    "i=1\n",
    "while i<=10:\n",
    "    print(i* '*')\n",
    "    i=i+1"
   ]
  },
  {
   "cell_type": "code",
   "execution_count": 16,
   "id": "677443fe",
   "metadata": {},
   "outputs": [
    {
     "name": "stdout",
     "output_type": "stream",
     "text": [
      "[1, 2, 3, 4, 5]\n"
     ]
    }
   ],
   "source": [
    "numbers=[1,2,3,4,5]\n",
    "print(numbers)"
   ]
  },
  {
   "cell_type": "code",
   "execution_count": 20,
   "id": "65f9e0e5",
   "metadata": {},
   "outputs": [
    {
     "name": "stdout",
     "output_type": "stream",
     "text": [
      "1\n",
      "2\n",
      "3\n",
      "4\n",
      "5\n"
     ]
    }
   ],
   "source": [
    "numbers=[1,2,3,4,5]\n",
    "for item in numbers:\n",
    "    print(item)"
   ]
  },
  {
   "cell_type": "code",
   "execution_count": 21,
   "id": "effbf39c",
   "metadata": {},
   "outputs": [
    {
     "name": "stdout",
     "output_type": "stream",
     "text": [
      "range(0, 5)\n"
     ]
    }
   ],
   "source": [
    "numbers=range(5)\n",
    "print(numbers)"
   ]
  },
  {
   "cell_type": "code",
   "execution_count": 23,
   "id": "33a075a3",
   "metadata": {},
   "outputs": [
    {
     "name": "stdout",
     "output_type": "stream",
     "text": [
      "0\n",
      "1\n",
      "2\n",
      "3\n",
      "4\n"
     ]
    }
   ],
   "source": [
    "numbers=range(5)\n",
    "for number in numbers:\n",
    "    print(number)"
   ]
  },
  {
   "cell_type": "code",
   "execution_count": 24,
   "id": "08d565dd",
   "metadata": {},
   "outputs": [
    {
     "name": "stdout",
     "output_type": "stream",
     "text": [
      "5\n",
      "6\n",
      "7\n",
      "8\n",
      "9\n"
     ]
    }
   ],
   "source": [
    "numbers=range(5,10)\n",
    "for number in numbers:\n",
    "    print(number)"
   ]
  },
  {
   "cell_type": "code",
   "execution_count": 25,
   "id": "427dfe38",
   "metadata": {},
   "outputs": [
    {
     "name": "stdout",
     "output_type": "stream",
     "text": [
      "5\n",
      "7\n",
      "9\n"
     ]
    }
   ],
   "source": [
    "numbers=range(5,10,2)\n",
    "for number in numbers:\n",
    "    print(number)"
   ]
  },
  {
   "cell_type": "code",
   "execution_count": 5,
   "id": "31a2a475",
   "metadata": {},
   "outputs": [
    {
     "name": "stdout",
     "output_type": "stream",
     "text": [
      "Guess:9\n",
      "You win\n"
     ]
    }
   ],
   "source": [
    "secret_number=9\n",
    "guess_count=0\n",
    "guess_limit=3\n",
    "while guess_count<guess_limit:\n",
    "    guess=int(input('Guess:'))\n",
    "    guess_count+=1\n",
    "    if guess==secret_number:\n",
    "        print('You win')\n",
    "        break\n",
    "else:\n",
    "    print('Sorry you failed')"
   ]
  },
  {
   "cell_type": "code",
   "execution_count": 11,
   "id": "f426f9ee",
   "metadata": {},
   "outputs": [
    {
     "name": "stdout",
     "output_type": "stream",
     "text": [
      "Total: 60\n"
     ]
    }
   ],
   "source": [
    "prices=[10,20,30]\n",
    "total=0\n",
    "for price in prices:\n",
    "    total+=price\n",
    "print(f\"Total: {total}\")"
   ]
  },
  {
   "cell_type": "code",
   "execution_count": 14,
   "id": "49547b56",
   "metadata": {},
   "outputs": [
    {
     "name": "stdout",
     "output_type": "stream",
     "text": [
      "(0,0)\n",
      "(0,1)\n",
      "(0,2)\n",
      "(1,0)\n",
      "(1,1)\n",
      "(1,2)\n",
      "(2,0)\n",
      "(2,1)\n",
      "(2,2)\n",
      "(3,0)\n",
      "(3,1)\n",
      "(3,2)\n"
     ]
    }
   ],
   "source": [
    "for x in range(4):\n",
    "    for y in range(3):\n",
    "        print(f'({x},{y})')\n"
   ]
  },
  {
   "cell_type": "code",
   "execution_count": 15,
   "id": "373991be",
   "metadata": {},
   "outputs": [
    {
     "name": "stdout",
     "output_type": "stream",
     "text": [
      "xxxxx\n",
      "xx\n",
      "xxxxx\n",
      "xx\n",
      "xx\n"
     ]
    }
   ],
   "source": [
    "numbers=[5,2,5,2,2]\n",
    "for x_count in numbers:\n",
    "    print('x'*x_count)"
   ]
  },
  {
   "cell_type": "code",
   "execution_count": 18,
   "id": "5f579923",
   "metadata": {},
   "outputs": [
    {
     "name": "stdout",
     "output_type": "stream",
     "text": [
      "100\n"
     ]
    }
   ],
   "source": [
    "numbers=[3,6,2,9,10,100,12,70]\n",
    "max=numbers[0]\n",
    "for x in numbers:\n",
    "    if x>max:\n",
    "        max=x\n",
    "print(max)\n",
    "    "
   ]
  },
  {
   "cell_type": "markdown",
   "id": "3f1d9e9f",
   "metadata": {},
   "source": [
    "# Removing duplicate numbers"
   ]
  },
  {
   "cell_type": "code",
   "execution_count": 19,
   "id": "336d733d",
   "metadata": {},
   "outputs": [
    {
     "name": "stdout",
     "output_type": "stream",
     "text": [
      "[2, 3, 4, 6, 7, 8, 9]\n"
     ]
    }
   ],
   "source": [
    "numbers=[2,3,2,3,4,6,7,8,9,8]\n",
    "unique=[]\n",
    "for number in numbers:\n",
    "    if number not in unique:\n",
    "        unique.append(number)\n",
    "print(unique)"
   ]
  },
  {
   "cell_type": "code",
   "execution_count": null,
   "id": "a31c6202",
   "metadata": {},
   "outputs": [],
   "source": []
  }
 ],
 "metadata": {
  "kernelspec": {
   "display_name": "Python 3 (ipykernel)",
   "language": "python",
   "name": "python3"
  },
  "language_info": {
   "codemirror_mode": {
    "name": "ipython",
    "version": 3
   },
   "file_extension": ".py",
   "mimetype": "text/x-python",
   "name": "python",
   "nbconvert_exporter": "python",
   "pygments_lexer": "ipython3",
   "version": "3.9.12"
  }
 },
 "nbformat": 4,
 "nbformat_minor": 5
}
