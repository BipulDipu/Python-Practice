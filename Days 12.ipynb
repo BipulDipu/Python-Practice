{
 "cells": [
  {
   "cell_type": "code",
   "execution_count": 1,
   "id": "662aabac",
   "metadata": {},
   "outputs": [],
   "source": [
    "l1=[2,5,8,10]"
   ]
  },
  {
   "cell_type": "code",
   "execution_count": 2,
   "id": "9ac6553c",
   "metadata": {},
   "outputs": [
    {
     "data": {
      "text/plain": [
       "[2, 5, 8, 10]"
      ]
     },
     "execution_count": 2,
     "metadata": {},
     "output_type": "execute_result"
    }
   ],
   "source": [
    "l1"
   ]
  },
  {
   "cell_type": "code",
   "execution_count": 3,
   "id": "0d4b3f25",
   "metadata": {},
   "outputs": [
    {
     "data": {
      "text/plain": [
       "list"
      ]
     },
     "execution_count": 3,
     "metadata": {},
     "output_type": "execute_result"
    }
   ],
   "source": [
    "type(l1)"
   ]
  },
  {
   "cell_type": "code",
   "execution_count": 4,
   "id": "e87be93e",
   "metadata": {},
   "outputs": [
    {
     "data": {
      "text/plain": [
       "2"
      ]
     },
     "execution_count": 4,
     "metadata": {},
     "output_type": "execute_result"
    }
   ],
   "source": [
    "l1[0]"
   ]
  },
  {
   "cell_type": "code",
   "execution_count": 5,
   "id": "a2deb20f",
   "metadata": {},
   "outputs": [
    {
     "data": {
      "text/plain": [
       "10"
      ]
     },
     "execution_count": 5,
     "metadata": {},
     "output_type": "execute_result"
    }
   ],
   "source": [
    "l1[-1]"
   ]
  },
  {
   "cell_type": "code",
   "execution_count": 6,
   "id": "078e927c",
   "metadata": {},
   "outputs": [
    {
     "data": {
      "text/plain": [
       "[2, 5]"
      ]
     },
     "execution_count": 6,
     "metadata": {},
     "output_type": "execute_result"
    }
   ],
   "source": [
    "l1[0:2]"
   ]
  },
  {
   "cell_type": "code",
   "execution_count": 7,
   "id": "f26a1ceb",
   "metadata": {},
   "outputs": [
    {
     "data": {
      "text/plain": [
       "[2, 5, 8]"
      ]
     },
     "execution_count": 7,
     "metadata": {},
     "output_type": "execute_result"
    }
   ],
   "source": [
    "l1[0:3]"
   ]
  },
  {
   "cell_type": "code",
   "execution_count": 8,
   "id": "351b24fa",
   "metadata": {},
   "outputs": [],
   "source": [
    "l1[0]='ai quest'"
   ]
  },
  {
   "cell_type": "code",
   "execution_count": 9,
   "id": "94cb85c3",
   "metadata": {},
   "outputs": [
    {
     "data": {
      "text/plain": [
       "['ai quest', 5, 8, 10]"
      ]
     },
     "execution_count": 9,
     "metadata": {},
     "output_type": "execute_result"
    }
   ],
   "source": [
    "l1"
   ]
  },
  {
   "cell_type": "code",
   "execution_count": 10,
   "id": "3e469dba",
   "metadata": {},
   "outputs": [],
   "source": [
    "l1.append('study mart')"
   ]
  },
  {
   "cell_type": "code",
   "execution_count": 11,
   "id": "06744c26",
   "metadata": {},
   "outputs": [
    {
     "data": {
      "text/plain": [
       "['ai quest', 5, 8, 10, 'study mart']"
      ]
     },
     "execution_count": 11,
     "metadata": {},
     "output_type": "execute_result"
    }
   ],
   "source": [
    "l1"
   ]
  },
  {
   "cell_type": "code",
   "execution_count": 14,
   "id": "d83b39e0",
   "metadata": {},
   "outputs": [],
   "source": [
    "l1.append(5)"
   ]
  },
  {
   "cell_type": "code",
   "execution_count": 17,
   "id": "702fa6a3",
   "metadata": {},
   "outputs": [
    {
     "data": {
      "text/plain": [
       "['ai quest', 5, 8, 10, 'study mart', '5', 5]"
      ]
     },
     "execution_count": 17,
     "metadata": {},
     "output_type": "execute_result"
    }
   ],
   "source": [
    "l1"
   ]
  },
  {
   "cell_type": "code",
   "execution_count": 18,
   "id": "1e5f7669",
   "metadata": {},
   "outputs": [
    {
     "data": {
      "text/plain": [
       "120"
      ]
     },
     "execution_count": 18,
     "metadata": {},
     "output_type": "execute_result"
    }
   ],
   "source": [
    "import sys\n",
    "sys.getsizeof(l1)"
   ]
  },
  {
   "cell_type": "code",
   "execution_count": 19,
   "id": "e8f6be5e",
   "metadata": {},
   "outputs": [
    {
     "data": {
      "text/plain": [
       "5"
      ]
     },
     "execution_count": 19,
     "metadata": {},
     "output_type": "execute_result"
    }
   ],
   "source": [
    "l1.pop()"
   ]
  },
  {
   "cell_type": "code",
   "execution_count": 20,
   "id": "3b9b7322",
   "metadata": {},
   "outputs": [
    {
     "data": {
      "text/plain": [
       "['ai quest', 5, 8, 10, 'study mart', '5']"
      ]
     },
     "execution_count": 20,
     "metadata": {},
     "output_type": "execute_result"
    }
   ],
   "source": [
    "l1"
   ]
  },
  {
   "cell_type": "code",
   "execution_count": 21,
   "id": "1a1f098b",
   "metadata": {},
   "outputs": [
    {
     "data": {
      "text/plain": [
       "'ai quest'"
      ]
     },
     "execution_count": 21,
     "metadata": {},
     "output_type": "execute_result"
    }
   ],
   "source": [
    "l1.pop(0)"
   ]
  },
  {
   "cell_type": "code",
   "execution_count": 22,
   "id": "568a817f",
   "metadata": {},
   "outputs": [
    {
     "data": {
      "text/plain": [
       "[5, 8, 10, 'study mart', '5']"
      ]
     },
     "execution_count": 22,
     "metadata": {},
     "output_type": "execute_result"
    }
   ],
   "source": [
    "l1"
   ]
  },
  {
   "cell_type": "code",
   "execution_count": 23,
   "id": "5b32ef89",
   "metadata": {},
   "outputs": [],
   "source": [
    "#Creatinh list using list constructor\n",
    "l2=list(('ai',12,(1,2,3,4)))"
   ]
  },
  {
   "cell_type": "code",
   "execution_count": 24,
   "id": "0b0e6b4d",
   "metadata": {},
   "outputs": [
    {
     "data": {
      "text/plain": [
       "['ai', 12, (1, 2, 3, 4)]"
      ]
     },
     "execution_count": 24,
     "metadata": {},
     "output_type": "execute_result"
    }
   ],
   "source": [
    "l2"
   ]
  },
  {
   "cell_type": "code",
   "execution_count": 25,
   "id": "cc3bde98",
   "metadata": {},
   "outputs": [
    {
     "data": {
      "text/plain": [
       "list"
      ]
     },
     "execution_count": 25,
     "metadata": {},
     "output_type": "execute_result"
    }
   ],
   "source": [
    "type(l2)"
   ]
  },
  {
   "cell_type": "code",
   "execution_count": 26,
   "id": "48a8bb9e",
   "metadata": {},
   "outputs": [
    {
     "data": {
      "text/plain": [
       "(1, 2, 3, 4)"
      ]
     },
     "execution_count": 26,
     "metadata": {},
     "output_type": "execute_result"
    }
   ],
   "source": [
    "l2[2]"
   ]
  },
  {
   "cell_type": "code",
   "execution_count": 27,
   "id": "d2e3ece2",
   "metadata": {},
   "outputs": [
    {
     "data": {
      "text/plain": [
       "1"
      ]
     },
     "execution_count": 27,
     "metadata": {},
     "output_type": "execute_result"
    }
   ],
   "source": [
    "l2[2][0]"
   ]
  },
  {
   "cell_type": "code",
   "execution_count": 30,
   "id": "3b343d46",
   "metadata": {},
   "outputs": [
    {
     "name": "stdout",
     "output_type": "stream",
     "text": [
      "Enter your total index: 3\n",
      "2\n",
      "['2']\n",
      "3\n",
      "['2', '3']\n",
      "5\n",
      "['2', '3', '5']\n"
     ]
    }
   ],
   "source": [
    "#Input list from user\n",
    "l3=[]\n",
    "n=int(input('Enter your total index: '))\n",
    "for i in range(n):\n",
    "    new=input()\n",
    "    l3.append(new)\n",
    "    print(l3)"
   ]
  },
  {
   "cell_type": "code",
   "execution_count": 31,
   "id": "4dd7820c",
   "metadata": {},
   "outputs": [
    {
     "name": "stdout",
     "output_type": "stream",
     "text": [
      "Enter your total index: 3\n",
      "20\n",
      "40\n",
      "50\n",
      "['20', '40', '50']\n"
     ]
    }
   ],
   "source": [
    "#Input list from user\n",
    "l3=[]\n",
    "n=int(input('Enter your total index: '))\n",
    "for i in range(n):\n",
    "    new=input()\n",
    "    l3.append(new)\n",
    "print(l3)"
   ]
  },
  {
   "cell_type": "code",
   "execution_count": 32,
   "id": "fc448dae",
   "metadata": {},
   "outputs": [
    {
     "data": {
      "text/plain": [
       "list"
      ]
     },
     "execution_count": 32,
     "metadata": {},
     "output_type": "execute_result"
    }
   ],
   "source": [
    "type(l3)"
   ]
  },
  {
   "cell_type": "code",
   "execution_count": null,
   "id": "d6430cd9",
   "metadata": {},
   "outputs": [],
   "source": []
  }
 ],
 "metadata": {
  "kernelspec": {
   "display_name": "Python 3 (ipykernel)",
   "language": "python",
   "name": "python3"
  },
  "language_info": {
   "codemirror_mode": {
    "name": "ipython",
    "version": 3
   },
   "file_extension": ".py",
   "mimetype": "text/x-python",
   "name": "python",
   "nbconvert_exporter": "python",
   "pygments_lexer": "ipython3",
   "version": "3.9.12"
  }
 },
 "nbformat": 4,
 "nbformat_minor": 5
}
