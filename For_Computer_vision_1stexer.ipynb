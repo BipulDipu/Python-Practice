{
 "cells": [
  {
   "cell_type": "code",
   "execution_count": 3,
   "id": "f837a9f8",
   "metadata": {},
   "outputs": [],
   "source": [
    "import numpy\n",
    "import pylab as p\n",
    "\n",
    "import matplotlib.axes as axes\n",
    "\n",
    "def plotCoordinateFrame(axis, T_0f, size=1, linewidth=3):\n",
    "    \"\"\"Plot a coordinate frame on a 3d axis. In the resulting plot,\n",
    "    x = red, y = green, z = blue.\n",
    "    \n",
    "    plotCoordinateFrame(axis, T_0f, size=1, linewidth=3)\n",
    "    Arguments:\n",
    "    axis: an axis of type matplotlib.axes.Axes3D\n",
    "    T_0f: The 4x4 transformation matrix that takes points from the frame of interest, to the plotting frame\n",
    "    size: the length of each line in the coordinate frame\n",
    "    linewidth: the width of each line in the coordinate frame\n",
    "    Usage is a bit irritating:\n",
    "    import mpl_toolkits.mplot3d.axes3d as p3\n",
    "    import pylab as pl\n",
    "    f1 = pl.figure(1)\n",
    "    # old syntax\n",
    "    # a3d = p3.Axes3D(f1)\n",
    "    # new syntax\n",
    "    a3d = f1.add_subplot(111, projection='3d')\n",
    "    # ... Fill in T_0f, the 4x4 transformation matrix\n",
    "    plotCoordinateFrame(a3d, T_0f)\n",
    "    see http://matplotlib.sourceforge.net/mpl_toolkits/mplot3d/tutorial.html for more details\n",
    "    \"\"\"\n",
    "    # \\todo fix this check.\n",
    "    #if type(axis) != axes.Axes3D:\n",
    "    #    raise TypeError(\"axis argument is the wrong type. Expected matplotlib.axes.Axes3D, got %s\" % (type(axis)))\n",
    "\n",
    "    p_f = numpy.array([ [ 0,0,0,1], [size,0,0,1], [0,size,0,1], [0,0,size,1]]).T;\n",
    "    p_0 = numpy.dot(T_0f,p_f)\n",
    "    # X-axis\n",
    "\n",
    "    X = numpy.append( [p_0[:,0].T] , [p_0[:,1].T], axis=0 )\n",
    "    Y = numpy.append( [p_0[:,0].T] , [p_0[:,2].T], axis=0 )\n",
    "    Z = numpy.append( [p_0[:,0].T] , [p_0[:,3].T], axis=0 )\n",
    "    axis.plot3D(X[:,0],X[:,1],X[:,2],'r-', linewidth=linewidth)\n",
    "    axis.plot3D(Y[:,0],Y[:,1],Y[:,2],'g-', linewidth=linewidth)\n",
    "    axis.plot3D(Z[:,0],Z[:,1],Z[:,2],'b-', linewidth=linewidth)"
   ]
  },
  {
   "cell_type": "code",
   "execution_count": null,
   "id": "56a6eeae",
   "metadata": {},
   "outputs": [],
   "source": []
  }
 ],
 "metadata": {
  "kernelspec": {
   "display_name": "Python 3 (ipykernel)",
   "language": "python",
   "name": "python3"
  },
  "language_info": {
   "codemirror_mode": {
    "name": "ipython",
    "version": 3
   },
   "file_extension": ".py",
   "mimetype": "text/x-python",
   "name": "python",
   "nbconvert_exporter": "python",
   "pygments_lexer": "ipython3",
   "version": "3.9.12"
  }
 },
 "nbformat": 4,
 "nbformat_minor": 5
}
