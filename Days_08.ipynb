{
 "cells": [
  {
   "cell_type": "code",
   "execution_count": 2,
   "id": "72e67810",
   "metadata": {},
   "outputs": [
    {
     "name": "stdout",
     "output_type": "stream",
     "text": [
      "Enter the length: 5\n",
      "Enter the breadth: 3\n",
      "it is not square\n"
     ]
    }
   ],
   "source": [
    "# Input the length of the user\n",
    "length=float(input('Enter the length: '))\n",
    "# Input the breadth from the user\n",
    "breadth=float(input('Enter the breadth: '))\n",
    "if breadth==length:\n",
    "    print('Yes it is square')\n",
    "else:\n",
    "    print('it is not square')"
   ]
  },
  {
   "cell_type": "code",
   "execution_count": 5,
   "id": "0d37c56c",
   "metadata": {},
   "outputs": [
    {
     "name": "stdout",
     "output_type": "stream",
     "text": [
      "Enter the first integer3\n",
      "Enter the 2nd integer8\n",
      "Enter the 3rd integer1\n",
      "The largest number is 8\n"
     ]
    }
   ],
   "source": [
    "# Take three integer number from user\n",
    "num1=int(input('Enter the first integer'))\n",
    "num2=int(input('Enter the 2nd integer'))\n",
    "num3=int(input('Enter the 3rd integer'))\n",
    "\n",
    "if (num1>num2) and (num1>num3):\n",
    "    largest=num1\n",
    "elif(num2>num1) and (num2>num3):\n",
    "    largest=num2\n",
    "else: \n",
    "    largest=num3\n",
    "print('The largest number is',largest)    \n",
    "    "
   ]
  },
  {
   "cell_type": "code",
   "execution_count": 8,
   "id": "99df7de2",
   "metadata": {},
   "outputs": [
    {
     "name": "stdout",
     "output_type": "stream",
     "text": [
      "Number of classes held: 70\n",
      "Number of classes attended40\n",
      "You are not allowed\n"
     ]
    }
   ],
   "source": [
    "held=int(input('Number of classes held: '))\n",
    "attended=int(input('Number of classes attended'))\n",
    "attended_ratio=(attended/held)*100\n",
    "if(attended_ratio>=75):\n",
    "    print('You are allowed')\n",
    "else:\n",
    "    print('You are not allowed')"
   ]
  },
  {
   "cell_type": "code",
   "execution_count": 14,
   "id": "2460a797",
   "metadata": {},
   "outputs": [
    {
     "name": "stdout",
     "output_type": "stream",
     "text": [
      "Enter your marks: 62\n",
      "B grade\n"
     ]
    }
   ],
   "source": [
    "marks=float(input('Enter your marks: '))\n",
    "if marks<25:\n",
    "    print('You are Genious like me')\n",
    "elif marks>=25 and marks<=44:\n",
    "    print('E grade, pass koreso mama')\n",
    "elif marks>=45 and marks<=49:\n",
    "    print('D grade')\n",
    "elif marks>=50 and marks<=59:\n",
    "    print('C grade')\n",
    "elif marks>=60 and marks<=79:\n",
    "    print('B grade')\n",
    "elif marks>=80 and marks<=89:\n",
    "    print('A grade')\n",
    "else:\n",
    "    print('You are a looser')\n",
    "    "
   ]
  },
  {
   "cell_type": "code",
   "execution_count": null,
   "id": "1d194fd5",
   "metadata": {},
   "outputs": [],
   "source": []
  }
 ],
 "metadata": {
  "kernelspec": {
   "display_name": "Python 3 (ipykernel)",
   "language": "python",
   "name": "python3"
  },
  "language_info": {
   "codemirror_mode": {
    "name": "ipython",
    "version": 3
   },
   "file_extension": ".py",
   "mimetype": "text/x-python",
   "name": "python",
   "nbconvert_exporter": "python",
   "pygments_lexer": "ipython3",
   "version": "3.9.12"
  }
 },
 "nbformat": 4,
 "nbformat_minor": 5
}
