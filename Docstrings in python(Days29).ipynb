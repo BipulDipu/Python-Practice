{
 "cells": [
  {
   "cell_type": "code",
   "execution_count": 2,
   "id": "9ccb678c",
   "metadata": {},
   "outputs": [
    {
     "name": "stdout",
     "output_type": "stream",
     "text": [
      "25\n",
      "Take a number n and return the squire of n\n"
     ]
    }
   ],
   "source": [
    "def squire(n):\n",
    "    '''Take a number n and return the squire of n'''\n",
    "    print(n**2)\n",
    "squire(5)\n",
    "print(squire.__doc__)"
   ]
  },
  {
   "cell_type": "code",
   "execution_count": 26,
   "id": "d7cbb348",
   "metadata": {},
   "outputs": [
    {
     "name": "stdout",
     "output_type": "stream",
     "text": [
      "6\n",
      "24\n",
      "120\n"
     ]
    }
   ],
   "source": [
    "def factorial(n):\n",
    "    if(n==0 or n==1):\n",
    "     return 1\n",
    "    else:\n",
    "     return n * factorial(n-1)\n",
    "\n",
    "print(factorial(3))\n",
    "print(factorial(4))\n",
    "print(factorial(5))\n"
   ]
  },
  {
   "cell_type": "markdown",
   "id": "7525532d",
   "metadata": {},
   "source": [
    "# For loop with else statement"
   ]
  },
  {
   "cell_type": "code",
   "execution_count": 27,
   "id": "680c1551",
   "metadata": {},
   "outputs": [
    {
     "name": "stdout",
     "output_type": "stream",
     "text": [
      "0\n",
      "1\n",
      "2\n",
      "3\n",
      "4\n"
     ]
    }
   ],
   "source": [
    "for i in range(6):\n",
    "    print(i)\n",
    "    if i==4:\n",
    "        break\n",
    "    \n",
    "else:\n",
    "    print(\"Sorry no I\")\n",
    "\n"
   ]
  },
  {
   "cell_type": "code",
   "execution_count": 28,
   "id": "6b95a37e",
   "metadata": {},
   "outputs": [
    {
     "name": "stdout",
     "output_type": "stream",
     "text": [
      "0\n",
      "1\n",
      "2\n",
      "3\n"
     ]
    }
   ],
   "source": [
    "i=0\n",
    "while i<7:\n",
    "    print(i)\n",
    "    i=i+1\n",
    "    if i==4:\n",
    "        break\n",
    "    \n",
    "else:\n",
    "    print(\"Sorry no I\")\n",
    "\n"
   ]
  },
  {
   "cell_type": "markdown",
   "id": "d110cefc",
   "metadata": {},
   "source": [
    "# Exception Handling"
   ]
  },
  {
   "cell_type": "code",
   "execution_count": 1,
   "id": "d714f7cc",
   "metadata": {},
   "outputs": [
    {
     "ename": "IndentationError",
     "evalue": "expected an indented block (193317928.py, line 4)",
     "output_type": "error",
     "traceback": [
      "\u001b[1;36m  Input \u001b[1;32mIn [1]\u001b[1;36m\u001b[0m\n\u001b[1;33m    for i in range(1,11):\u001b[0m\n\u001b[1;37m    ^\u001b[0m\n\u001b[1;31mIndentationError\u001b[0m\u001b[1;31m:\u001b[0m expected an indented block\n"
     ]
    }
   ],
   "source": [
    "a=input(\"Enter the number\")\n",
    "print(f\"Multiplication table of {a} is :\")\n",
    "try:\n",
    "for i in range(1,11):\n",
    "    print(f\"{int(a)} X {i}={int(a)*i}\")\n",
    "except:\n",
    "    print(\"invalid input\")\n",
    "    \n",
    "print(\"Some import line of code\")\n"
   ]
  },
  {
   "cell_type": "markdown",
   "id": "a2f081c4",
   "metadata": {},
   "source": [
    "# Finally keywords in python"
   ]
  },
  {
   "cell_type": "code",
   "execution_count": 5,
   "id": "45b1e744",
   "metadata": {},
   "outputs": [
    {
     "name": "stdout",
     "output_type": "stream",
     "text": [
      "Enter an Index5\n",
      "Some error occured\n",
      "I am always executed\n"
     ]
    }
   ],
   "source": [
    "try:\n",
    "    l=[1,5,6,7]\n",
    "    i=int(input(\"Enter an Index\"))\n",
    "    print(l[i])\n",
    "except:\n",
    "    print(\"Some error occured\")\n",
    "finally:\n",
    "    print(\"I am always executed\")\n",
    "    "
   ]
  },
  {
   "cell_type": "markdown",
   "id": "25edf08e",
   "metadata": {},
   "source": [
    "# Raising custom errors"
   ]
  },
  {
   "cell_type": "code",
   "execution_count": 5,
   "id": "9e4abc11",
   "metadata": {},
   "outputs": [
    {
     "name": "stdout",
     "output_type": "stream",
     "text": [
      "Enter any value between 5 and 9harry\n"
     ]
    },
    {
     "ename": "ValueError",
     "evalue": "invalid literal for int() with base 10: 'harry'",
     "output_type": "error",
     "traceback": [
      "\u001b[1;31m---------------------------------------------------------------------------\u001b[0m",
      "\u001b[1;31mValueError\u001b[0m                                Traceback (most recent call last)",
      "Input \u001b[1;32mIn [5]\u001b[0m, in \u001b[0;36m<cell line: 1>\u001b[1;34m()\u001b[0m\n\u001b[1;32m----> 1\u001b[0m a\u001b[38;5;241m=\u001b[39m\u001b[38;5;28;43mint\u001b[39;49m\u001b[43m(\u001b[49m\u001b[38;5;28;43minput\u001b[39;49m\u001b[43m(\u001b[49m\u001b[38;5;124;43m\"\u001b[39;49m\u001b[38;5;124;43mEnter any value between 5 and 9\u001b[39;49m\u001b[38;5;124;43m\"\u001b[39;49m\u001b[43m)\u001b[49m\u001b[43m)\u001b[49m\n\u001b[0;32m      2\u001b[0m \u001b[38;5;28;01mif\u001b[39;00m(a\u001b[38;5;241m<\u001b[39m\u001b[38;5;241m5\u001b[39m \u001b[38;5;129;01mor\u001b[39;00m a\u001b[38;5;241m>\u001b[39m\u001b[38;5;241m9\u001b[39m):\n\u001b[0;32m      3\u001b[0m     \u001b[38;5;28;01mraise\u001b[39;00m valueError(\u001b[38;5;124m\"\u001b[39m\u001b[38;5;124mvalue should be between 5 and 9\u001b[39m\u001b[38;5;124m\"\u001b[39m)\n",
      "\u001b[1;31mValueError\u001b[0m: invalid literal for int() with base 10: 'harry'"
     ]
    }
   ],
   "source": [
    "a=int(input(\"Enter any value between 5 and 9\"))\n",
    "if(a<5 or a>9):\n",
    "    raise valueError(\"value should be between 5 and 9\")"
   ]
  },
  {
   "cell_type": "markdown",
   "id": "4e640c6d",
   "metadata": {},
   "source": [
    "# Short hand if else statements"
   ]
  },
  {
   "cell_type": "code",
   "execution_count": 1,
   "id": "3456bc6a",
   "metadata": {},
   "outputs": [
    {
     "name": "stdout",
     "output_type": "stream",
     "text": [
      "B\n"
     ]
    }
   ],
   "source": [
    "a=303\n",
    "b=3303\n",
    "print(\"A\") if a>b else print(\"=\") if a==b else print(\"B\")"
   ]
  },
  {
   "cell_type": "markdown",
   "id": "fde9c1f2",
   "metadata": {},
   "source": [
    "# Enumerate Function"
   ]
  },
  {
   "cell_type": "code",
   "execution_count": 5,
   "id": "a71e3dd4",
   "metadata": {},
   "outputs": [
    {
     "name": "stdout",
     "output_type": "stream",
     "text": [
      "12\n",
      "56\n",
      "32\n",
      "98\n",
      "Harry, Awesome!\n",
      "12\n",
      "45\n",
      "1\n",
      "4\n"
     ]
    }
   ],
   "source": [
    "marks=[12,56,32,98,12,45,1,4]\n",
    "index=0\n",
    "for mark in marks:\n",
    "    print(mark)\n",
    "    if index==3:\n",
    "        print(\"Harry, Awesome!\")\n",
    "    index+=1"
   ]
  },
  {
   "cell_type": "code",
   "execution_count": 7,
   "id": "fe1ca733",
   "metadata": {},
   "outputs": [
    {
     "name": "stdout",
     "output_type": "stream",
     "text": [
      "12\n",
      "56\n",
      "32\n",
      "98\n",
      "Harry, Awesome!\n",
      "12\n",
      "45\n",
      "1\n",
      "4\n"
     ]
    }
   ],
   "source": [
    "marks=[12,56,32,98,12,45,1,4]\n",
    "\n",
    "for index,mark in enumerate(marks):\n",
    "    print(mark)\n",
    "    if index==3:\n",
    "        print(\"Harry, Awesome!\")\n",
    "   "
   ]
  },
  {
   "cell_type": "markdown",
   "id": "92a662ec",
   "metadata": {},
   "source": [
    "# Lamda function"
   ]
  },
  {
   "cell_type": "code",
   "execution_count": 10,
   "id": "a71175f1",
   "metadata": {},
   "outputs": [
    {
     "name": "stdout",
     "output_type": "stream",
     "text": [
      "10\n"
     ]
    }
   ],
   "source": [
    "double=lambda x:x*2\n",
    "    \n",
    "print(double(5))"
   ]
  },
  {
   "cell_type": "code",
   "execution_count": 14,
   "id": "b95461d1",
   "metadata": {},
   "outputs": [
    {
     "name": "stdout",
     "output_type": "stream",
     "text": [
      "3.0\n"
     ]
    }
   ],
   "source": [
    "avg=lambda x,y,z:(x+y+z)/3\n",
    "print(avg(2,3,4))"
   ]
  },
  {
   "cell_type": "markdown",
   "id": "6d0edc7f",
   "metadata": {},
   "source": [
    "# Map, Filter and Reduce"
   ]
  },
  {
   "cell_type": "code",
   "execution_count": 8,
   "id": "670201b8",
   "metadata": {},
   "outputs": [
    {
     "name": "stdout",
     "output_type": "stream",
     "text": [
      "8\n",
      "[1, 8, 64, 216, 27, 64]\n",
      "[4, 6, 3, 4]\n"
     ]
    }
   ],
   "source": [
    "def cube(x):\n",
    "    return x*x*x\n",
    "print(cube(2))\n",
    "\n",
    "l=[1,2,4,6,3,4]\n",
    "newl=list(map(cube,l))\n",
    "print(newl)\n",
    "\n",
    "#FILTER\n",
    "\n",
    "def filter_function(a):\n",
    "    return a>2\n",
    "newnewl=list(filter(filter_function,l))\n",
    "print(newnewl)\n"
   ]
  },
  {
   "cell_type": "code",
   "execution_count": 10,
   "id": "df4fa2c3",
   "metadata": {},
   "outputs": [
    {
     "name": "stdout",
     "output_type": "stream",
     "text": [
      "15\n"
     ]
    }
   ],
   "source": [
    "from functools import reduce\n",
    "numbers=[1,2,3,4,5]\n",
    "def mysum(x,y):\n",
    "    return x+y\n",
    "sum=reduce(mysum, numbers)\n",
    "print(sum)\n",
    "\n"
   ]
  },
  {
   "cell_type": "code",
   "execution_count": null,
   "id": "0e3d83a4",
   "metadata": {},
   "outputs": [],
   "source": []
  }
 ],
 "metadata": {
  "kernelspec": {
   "display_name": "Python 3 (ipykernel)",
   "language": "python",
   "name": "python3"
  },
  "language_info": {
   "codemirror_mode": {
    "name": "ipython",
    "version": 3
   },
   "file_extension": ".py",
   "mimetype": "text/x-python",
   "name": "python",
   "nbconvert_exporter": "python",
   "pygments_lexer": "ipython3",
   "version": "3.9.12"
  }
 },
 "nbformat": 4,
 "nbformat_minor": 5
}
