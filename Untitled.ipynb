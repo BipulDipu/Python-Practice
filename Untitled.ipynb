{
 "cells": [
  {
   "cell_type": "markdown",
   "id": "171ab86c",
   "metadata": {},
   "source": [
    "# Object and class"
   ]
  },
  {
   "cell_type": "code",
   "execution_count": 14,
   "id": "71a909eb",
   "metadata": {},
   "outputs": [
    {
     "name": "stdout",
     "output_type": "stream",
     "text": [
      "Bipul is a Teacher\n",
      "Anny is a teacher\n"
     ]
    }
   ],
   "source": [
    "class person:\n",
    "    name=\"Harry\"\n",
    "    occupation=\"software developer\"\n",
    "    networth=10\n",
    "    def info(self):\n",
    "        print(f\"{self.name} is a {self.occupation}\")\n",
    "        \n",
    "        \n",
    "    a=person()\n",
    "    b=person()\n",
    "    \n",
    "    a.name=\"Bipul\"\n",
    "    a.occupation=\"Teacher\"\n",
    "    b.name=\"Anny\"\n",
    "    b.occupation=\"teacher\"\n",
    "    \n",
    "    a.info()\n",
    "    b.info()"
   ]
  },
  {
   "cell_type": "code",
   "execution_count": 15,
   "id": "1ef3a8e5",
   "metadata": {},
   "outputs": [
    {
     "name": "stdout",
     "output_type": "stream",
     "text": [
      "(9, 6)\n"
     ]
    }
   ],
   "source": [
    "def squire(x):\n",
    "    return x*x,x*2\n",
    "s=squire(3)\n",
    "print(s)\n",
    "    "
   ]
  },
  {
   "cell_type": "code",
   "execution_count": null,
   "id": "c7f7532a",
   "metadata": {},
   "outputs": [],
   "source": []
  }
 ],
 "metadata": {
  "kernelspec": {
   "display_name": "Python 3 (ipykernel)",
   "language": "python",
   "name": "python3"
  },
  "language_info": {
   "codemirror_mode": {
    "name": "ipython",
    "version": 3
   },
   "file_extension": ".py",
   "mimetype": "text/x-python",
   "name": "python",
   "nbconvert_exporter": "python",
   "pygments_lexer": "ipython3",
   "version": "3.9.12"
  }
 },
 "nbformat": 4,
 "nbformat_minor": 5
}
